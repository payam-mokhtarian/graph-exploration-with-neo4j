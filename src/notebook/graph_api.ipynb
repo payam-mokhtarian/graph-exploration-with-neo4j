{
  "nbformat": 4,
  "nbformat_minor": 0,
  "metadata": {
    "colab": {
      "provenance": []
    },
    "kernelspec": {
      "name": "python3",
      "display_name": "Python 3"
    },
    "language_info": {
      "name": "python"
    }
  },
  "cells": [
    {
      "cell_type": "code",
      "execution_count": 21,
      "metadata": {
        "id": "od4G58Q-ebtb"
      },
      "outputs": [],
      "source": [
        "import requests\n",
        "import json"
      ]
    },
    {
      "cell_type": "code",
      "source": [
        "HOST = 'http://3.236.93.178'\n",
        "PORT = '7474'\n",
        "ENDPOINT = '/db/neo4j/tx'\n",
        "USER = 'neo4j'\n",
        "PWD = 'growth-reservists-curves'\n",
        "\n",
        "url = HOST+':'+PORT+ENDPOINT\n",
        "print(url)"
      ],
      "metadata": {
        "colab": {
          "base_uri": "https://localhost:8080/"
        },
        "id": "_CwEI1P5e51Z",
        "outputId": "1af0ee77-4e57-4e0b-c07d-b5838b26fd9d"
      },
      "execution_count": 22,
      "outputs": [
        {
          "output_type": "stream",
          "name": "stdout",
          "text": [
            "http://3.236.93.178:7474/db/neo4j/tx\n"
          ]
        }
      ]
    },
    {
      "cell_type": "code",
      "source": [
        "body = {\n",
        "  \"statements\" : [ {\n",
        "    \"statement\" : \"MATCH (c:Country) RETURN c.name AS country\"\n",
        "  } ]\n",
        "}\n",
        "\n",
        "response = requests.post(url,\n",
        "                         auth = (USER, PWD),\n",
        "                         json=body)"
      ],
      "metadata": {
        "id": "pW8wrZZygSzI"
      },
      "execution_count": 29,
      "outputs": []
    },
    {
      "cell_type": "code",
      "source": [
        "data = response.json()\n",
        "data['results']"
      ],
      "metadata": {
        "colab": {
          "base_uri": "https://localhost:8080/"
        },
        "id": "HNtmJbRmggMP",
        "outputId": "32dd1435-92bd-4d74-be9e-6bacf8cfb1ea"
      },
      "execution_count": 30,
      "outputs": [
        {
          "output_type": "execute_result",
          "data": {
            "text/plain": [
              "[{'columns': ['country'],\n",
              "  'data': [{'row': ['Malaysia'], 'meta': [None]},\n",
              "   {'row': ['Vietnam'], 'meta': [None]},\n",
              "   {'row': ['Singapore'], 'meta': [None]},\n",
              "   {'row': ['India'], 'meta': [None]},\n",
              "   {'row': ['Singapore '], 'meta': [None]},\n",
              "   {'row': ['Malaysia '], 'meta': [None]},\n",
              "   {'row': ['Hawaii'], 'meta': [None]},\n",
              "   {'row': ['Indonesia '], 'meta': [None]},\n",
              "   {'row': ['Korea'], 'meta': [None]},\n",
              "   {'row': ['Dubai'], 'meta': [None]},\n",
              "   {'row': ['London'], 'meta': [None]},\n",
              "   {'row': ['France'], 'meta': [None]},\n",
              "   {'row': ['Belgium'], 'meta': [None]},\n",
              "   {'row': ['Philippines'], 'meta': [None]},\n",
              "   {'row': ['Tokyo'], 'meta': [None]},\n",
              "   {'row': ['New York '], 'meta': [None]},\n",
              "   {'row': ['Canada'], 'meta': [None]},\n",
              "   {'row': ['Thailand'], 'meta': [None]}]}]"
            ]
          },
          "metadata": {},
          "execution_count": 30
        }
      ]
    }
  ]
}